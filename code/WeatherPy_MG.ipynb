{
 "cells": [
  {
   "cell_type": "markdown",
   "metadata": {},
   "source": [
    "# WeatherPy\n",
    "----\n",
    "\n",
    "#### Data Analysis\n",
    "*From the Northern Hemisphere temperature vs. latitude linear regression, there is a negative correlation between the latitude and temperature.  When we go away from the equatorial line (0° latitude) further to the north (to arctic point (90° latitude)), the temperatures decreases.  There is not a strong correlation, because, latitude is not the only variable affecting temperature.(probably altitude, being close to large water bodies, etc. affect the temperature as well.)\n",
    "\n",
    "*From the Southern Hemisphere temperature vs. latitude linear regression, there is a positive correlation between the latitude and temperature.  When we go from the antarctic point (-90° latitude) further to the north (to the equatorial line (0° latitude)), the temperatures increases.  There is not a very strong correlation, because, latitude is not the only variable affecting temperature.(probably altitude, being close to large water bodies, etc. affect the temperature as well.)\n",
    "\n",
    "*Humidity, Wind Speed and Cloudiness have no correlation with lattitude, looking at all the graphs for both Southern and Northern hemisphere data.\n",
    "\n"
   ]
  },
  {
   "cell_type": "code",
   "execution_count": 1,
   "metadata": {
    "scrolled": true
   },
   "outputs": [],
   "source": [
    "# Dependencies and Setup\n",
    "import matplotlib.pyplot as plt\n",
    "import pandas as pd\n",
    "import numpy as np\n",
    "import requests\n",
    "import time\n",
    "import csv\n",
    "\n",
    "from scipy.stats import linregress\n",
    "\n",
    "# Import API key\n",
    "from api_keys import weather_api_key\n",
    "\n",
    "# Incorporated citipy to determine city based on latitude and longitude\n",
    "from citipy import citipy\n",
    "\n",
    "# Output File (CSV)\n",
    "output_data_file = \"output_data/cities.csv\"\n",
    "\n",
    "# Range of latitudes and longitudes\n",
    "lat_range = (-90, 90)\n",
    "lng_range = (-180, 180)\n"
   ]
  },
  {
   "cell_type": "markdown",
   "metadata": {},
   "source": [
    "## Generate Cities List"
   ]
  },
  {
   "cell_type": "code",
   "execution_count": 2,
   "metadata": {},
   "outputs": [
    {
     "name": "stdout",
     "output_type": "stream",
     "text": [
      "590 and 590\n"
     ]
    }
   ],
   "source": [
    "# List for holding lat_lngs and cities\n",
    "lat_lngs = []\n",
    "cities = []\n",
    "country_code=[]\n",
    "# Create a set of random lat and lng combinations\n",
    "lats = np.random.uniform(lat_range[0], lat_range[1], size=1500)\n",
    "lngs = np.random.uniform(lng_range[0], lng_range[1], size=1500)\n",
    "lat_lngs = zip(lats, lngs)\n",
    "\n",
    "# Identify nearest city for each lat, lng combination\n",
    "for lat_lng in lat_lngs:\n",
    "    city = citipy.nearest_city(lat_lng[0], lat_lng[1]).city_name\n",
    "    country=citipy.nearest_city(lat_lng[0], lat_lng[1]).country_code\n",
    "    # If the city is unique, then add it to a our cities list\n",
    "    #I also added country code here\n",
    "    if city not in cities:\n",
    "        cities.append(city)\n",
    "        country_code.append(country)\n",
    "       \n",
    "# Print the city count to confirm sufficient count\n",
    "\n",
    "print(f\"{len(country_code)} and {len(cities)}\")"
   ]
  },
  {
   "cell_type": "markdown",
   "metadata": {},
   "source": [
    "### Perform API Calls\n",
    "* Perform a weather check on each city using a series of successive API calls.\n",
    "* Include a print log of each city as it'sbeing processed (with the city number and city name).\n"
   ]
  },
  {
   "cell_type": "code",
   "execution_count": 3,
   "metadata": {
    "scrolled": true
   },
   "outputs": [
    {
     "data": {
      "text/html": [
       "<div>\n",
       "<style scoped>\n",
       "    .dataframe tbody tr th:only-of-type {\n",
       "        vertical-align: middle;\n",
       "    }\n",
       "\n",
       "    .dataframe tbody tr th {\n",
       "        vertical-align: top;\n",
       "    }\n",
       "\n",
       "    .dataframe thead th {\n",
       "        text-align: right;\n",
       "    }\n",
       "</style>\n",
       "<table border=\"1\" class=\"dataframe\">\n",
       "  <thead>\n",
       "    <tr style=\"text-align: right;\">\n",
       "      <th></th>\n",
       "      <th>City</th>\n",
       "    </tr>\n",
       "  </thead>\n",
       "  <tbody>\n",
       "    <tr>\n",
       "      <th>0</th>\n",
       "      <td>upernavik</td>\n",
       "    </tr>\n",
       "    <tr>\n",
       "      <th>1</th>\n",
       "      <td>hermanus</td>\n",
       "    </tr>\n",
       "    <tr>\n",
       "      <th>2</th>\n",
       "      <td>punta arenas</td>\n",
       "    </tr>\n",
       "    <tr>\n",
       "      <th>3</th>\n",
       "      <td>ahipara</td>\n",
       "    </tr>\n",
       "    <tr>\n",
       "      <th>4</th>\n",
       "      <td>trairi</td>\n",
       "    </tr>\n",
       "  </tbody>\n",
       "</table>\n",
       "</div>"
      ],
      "text/plain": [
       "           City\n",
       "0     upernavik\n",
       "1      hermanus\n",
       "2  punta arenas\n",
       "3       ahipara\n",
       "4        trairi"
      ]
     },
     "execution_count": 3,
     "metadata": {},
     "output_type": "execute_result"
    }
   ],
   "source": [
    "cities_df=pd.DataFrame(cities, columns=[\"City\"])\n",
    "country_df=pd.DataFrame(country_code, columns=[\"Country\"])\n",
    "cities_df.head()\n"
   ]
  },
  {
   "cell_type": "code",
   "execution_count": 4,
   "metadata": {
    "scrolled": true
   },
   "outputs": [
    {
     "data": {
      "text/html": [
       "<div>\n",
       "<style scoped>\n",
       "    .dataframe tbody tr th:only-of-type {\n",
       "        vertical-align: middle;\n",
       "    }\n",
       "\n",
       "    .dataframe tbody tr th {\n",
       "        vertical-align: top;\n",
       "    }\n",
       "\n",
       "    .dataframe thead th {\n",
       "        text-align: right;\n",
       "    }\n",
       "</style>\n",
       "<table border=\"1\" class=\"dataframe\">\n",
       "  <thead>\n",
       "    <tr style=\"text-align: right;\">\n",
       "      <th></th>\n",
       "      <th>Country</th>\n",
       "    </tr>\n",
       "  </thead>\n",
       "  <tbody>\n",
       "    <tr>\n",
       "      <th>0</th>\n",
       "      <td>gl</td>\n",
       "    </tr>\n",
       "    <tr>\n",
       "      <th>1</th>\n",
       "      <td>za</td>\n",
       "    </tr>\n",
       "    <tr>\n",
       "      <th>2</th>\n",
       "      <td>cl</td>\n",
       "    </tr>\n",
       "    <tr>\n",
       "      <th>3</th>\n",
       "      <td>nz</td>\n",
       "    </tr>\n",
       "    <tr>\n",
       "      <th>4</th>\n",
       "      <td>br</td>\n",
       "    </tr>\n",
       "  </tbody>\n",
       "</table>\n",
       "</div>"
      ],
      "text/plain": [
       "  Country\n",
       "0      gl\n",
       "1      za\n",
       "2      cl\n",
       "3      nz\n",
       "4      br"
      ]
     },
     "execution_count": 4,
     "metadata": {},
     "output_type": "execute_result"
    }
   ],
   "source": [
    "country_df.head()"
   ]
  },
  {
   "cell_type": "code",
   "execution_count": 5,
   "metadata": {},
   "outputs": [
    {
     "name": "stdout",
     "output_type": "stream",
     "text": [
      "----------------------------------\n",
      "Beginning Data Retrieval\n",
      "----------------------------------\n",
      "Processing Record 1 of Set 1  |  upernavik.\n",
      "Processing Record 2 of Set 1  |  hermanus.\n",
      "Processing Record 3 of Set 1  |  punta arenas.\n",
      "Processing Record 4 of Set 1  |  ahipara.\n",
      "Processing Record 5 of Set 1  |  trairi.\n",
      "Processing Record 6 of Set 1  |  kodiak.\n",
      "Processing Record 7 of Set 1  |  victoria.\n",
      "Processing Record 8 of Set 1  |  vaini.\n",
      "Processing Record 9 of Set 1  |  montlucon.\n",
      "Processing Record 10 of Set 1  |  taolanaro.\n",
      "City not found. Skipping...\n",
      "Processing Record 11 of Set 1  |  taihe.\n",
      "Processing Record 12 of Set 1  |  chokurdakh.\n",
      "Processing Record 13 of Set 1  |  sylva.\n",
      "Processing Record 14 of Set 1  |  jamestown.\n",
      "Processing Record 15 of Set 1  |  georgetown.\n",
      "Processing Record 16 of Set 1  |  saint-philippe.\n",
      "Processing Record 17 of Set 1  |  busselton.\n",
      "Processing Record 18 of Set 1  |  puerto del rosario.\n",
      "Processing Record 19 of Set 1  |  bluff.\n",
      "Processing Record 20 of Set 1  |  dikson.\n",
      "Processing Record 21 of Set 1  |  port alfred.\n",
      "Processing Record 22 of Set 1  |  rikitea.\n",
      "Processing Record 23 of Set 1  |  port blair.\n",
      "Processing Record 24 of Set 1  |  hua hin.\n",
      "Processing Record 25 of Set 1  |  arraial do cabo.\n",
      "Processing Record 26 of Set 1  |  ushuaia.\n",
      "Processing Record 27 of Set 1  |  wajima.\n",
      "Processing Record 28 of Set 1  |  puerto ayora.\n",
      "Processing Record 29 of Set 1  |  mataura.\n",
      "Processing Record 30 of Set 1  |  tumannyy.\n",
      "City not found. Skipping...\n",
      "Processing Record 31 of Set 1  |  meyungs.\n",
      "City not found. Skipping...\n",
      "Processing Record 32 of Set 1  |  guerrero negro.\n",
      "Processing Record 33 of Set 1  |  tarko-sale.\n",
      "Processing Record 34 of Set 1  |  richards bay.\n",
      "Processing Record 35 of Set 1  |  tiksi.\n",
      "Processing Record 36 of Set 1  |  lata.\n",
      "Processing Record 37 of Set 1  |  faanui.\n",
      "Processing Record 38 of Set 1  |  illoqqortoormiut.\n",
      "City not found. Skipping...\n",
      "Processing Record 39 of Set 1  |  bengkulu.\n",
      "Processing Record 40 of Set 1  |  nikolskoye.\n",
      "Processing Record 41 of Set 1  |  albany.\n",
      "Processing Record 42 of Set 1  |  lobito.\n",
      "Processing Record 43 of Set 1  |  kahului.\n",
      "Processing Record 44 of Set 1  |  namibe.\n",
      "Processing Record 45 of Set 1  |  fortuna.\n",
      "Processing Record 46 of Set 1  |  port hueneme.\n",
      "Processing Record 47 of Set 1  |  manta.\n",
      "Processing Record 48 of Set 1  |  clyde river.\n",
      "Processing Record 49 of Set 1  |  santa cruz.\n",
      "Processing Record 50 of Set 1  |  polunochnoye.\n",
      "Processing Record 1 of Set 2  |  touros.\n",
      "Processing Record 2 of Set 2  |  paita.\n",
      "Processing Record 3 of Set 2  |  cape town.\n",
      "Processing Record 4 of Set 2  |  barrow.\n",
      "Processing Record 5 of Set 2  |  bredasdorp.\n",
      "Processing Record 6 of Set 2  |  qaanaaq.\n",
      "Processing Record 7 of Set 2  |  nhamunda.\n",
      "Processing Record 8 of Set 2  |  esna.\n",
      "Processing Record 9 of Set 2  |  mamallapuram.\n",
      "Processing Record 10 of Set 2  |  kuche.\n",
      "City not found. Skipping...\n",
      "Processing Record 11 of Set 2  |  wajir.\n",
      "Processing Record 12 of Set 2  |  cherskiy.\n",
      "Processing Record 13 of Set 2  |  hithadhoo.\n",
      "Processing Record 14 of Set 2  |  heihe.\n",
      "Processing Record 15 of Set 2  |  norman wells.\n",
      "Processing Record 16 of Set 2  |  thompson.\n",
      "Processing Record 17 of Set 2  |  ponta do sol.\n",
      "Processing Record 18 of Set 2  |  chor.\n",
      "Processing Record 19 of Set 2  |  kenai.\n",
      "Processing Record 20 of Set 2  |  provideniya.\n",
      "Processing Record 21 of Set 2  |  carnarvon.\n",
      "Processing Record 22 of Set 2  |  chuy.\n",
      "Processing Record 23 of Set 2  |  sao filipe.\n",
      "Processing Record 24 of Set 2  |  cabo san lucas.\n",
      "Processing Record 25 of Set 2  |  rundu.\n",
      "Processing Record 26 of Set 2  |  mehamn.\n",
      "Processing Record 27 of Set 2  |  kavieng.\n",
      "Processing Record 28 of Set 2  |  east london.\n",
      "Processing Record 29 of Set 2  |  the valley.\n",
      "Processing Record 30 of Set 2  |  dongying.\n",
      "Processing Record 31 of Set 2  |  sao gabriel da cachoeira.\n",
      "Processing Record 32 of Set 2  |  verkhoyansk.\n",
      "Processing Record 33 of Set 2  |  hilo.\n",
      "Processing Record 34 of Set 2  |  yumen.\n",
      "Processing Record 35 of Set 2  |  tsihombe.\n",
      "City not found. Skipping...\n",
      "Processing Record 36 of Set 2  |  severo-kurilsk.\n",
      "Processing Record 37 of Set 2  |  shenjiamen.\n",
      "Processing Record 38 of Set 2  |  veraval.\n",
      "Processing Record 39 of Set 2  |  svetlyy.\n",
      "Processing Record 40 of Set 2  |  fare.\n",
      "Processing Record 41 of Set 2  |  sao joao da barra.\n",
      "Processing Record 42 of Set 2  |  poum.\n",
      "Processing Record 43 of Set 2  |  ribeira grande.\n",
      "Processing Record 44 of Set 2  |  kasama.\n",
      "Processing Record 45 of Set 2  |  urengoy.\n",
      "Processing Record 46 of Set 2  |  keti bandar.\n",
      "Processing Record 47 of Set 2  |  bethel.\n",
      "Processing Record 48 of Set 2  |  vila.\n",
      "Processing Record 49 of Set 2  |  yungkang.\n",
      "City not found. Skipping...\n",
      "Processing Record 50 of Set 2  |  mutare.\n",
      "Processing Record 1 of Set 3  |  bambanglipuro.\n",
      "Processing Record 2 of Set 3  |  loket.\n",
      "Processing Record 3 of Set 3  |  pangody.\n",
      "Processing Record 4 of Set 3  |  kiruna.\n",
      "Processing Record 5 of Set 3  |  peniche.\n",
      "Processing Record 6 of Set 3  |  necochea.\n",
      "Processing Record 7 of Set 3  |  noyabrsk.\n",
      "Processing Record 8 of Set 3  |  la jutosa.\n",
      "Processing Record 9 of Set 3  |  san ignacio.\n",
      "Processing Record 10 of Set 3  |  tuktoyaktuk.\n",
      "Processing Record 11 of Set 3  |  ayan.\n",
      "Processing Record 12 of Set 3  |  castro.\n",
      "Processing Record 13 of Set 3  |  atuona.\n",
      "Processing Record 14 of Set 3  |  kamenka.\n",
      "Processing Record 15 of Set 3  |  burewala.\n",
      "Processing Record 16 of Set 3  |  port lincoln.\n",
      "Processing Record 17 of Set 3  |  narsaq.\n",
      "Processing Record 18 of Set 3  |  iqaluit.\n",
      "Processing Record 19 of Set 3  |  amderma.\n",
      "City not found. Skipping...\n",
      "Processing Record 20 of Set 3  |  ranong.\n",
      "Processing Record 21 of Set 3  |  parana.\n",
      "Processing Record 22 of Set 3  |  mazagao.\n",
      "Processing Record 23 of Set 3  |  sosua.\n",
      "Processing Record 24 of Set 3  |  port macquarie.\n",
      "Processing Record 25 of Set 3  |  lebu.\n",
      "Processing Record 26 of Set 3  |  kruisfontein.\n",
      "Processing Record 27 of Set 3  |  chara.\n",
      "Processing Record 28 of Set 3  |  lagoa.\n",
      "Processing Record 29 of Set 3  |  santa maria.\n",
      "Processing Record 30 of Set 3  |  chalmette.\n",
      "Processing Record 31 of Set 3  |  belushya guba.\n",
      "City not found. Skipping...\n",
      "Processing Record 32 of Set 3  |  kaitangata.\n",
      "Processing Record 33 of Set 3  |  portland.\n",
      "Processing Record 34 of Set 3  |  robertsport.\n",
      "Processing Record 35 of Set 3  |  manicore.\n",
      "Processing Record 36 of Set 3  |  luderitz.\n",
      "Processing Record 37 of Set 3  |  ketchikan.\n",
      "Processing Record 38 of Set 3  |  buala.\n",
      "Processing Record 39 of Set 3  |  bethanien.\n",
      "Processing Record 40 of Set 3  |  bambous virieux.\n",
      "Processing Record 41 of Set 3  |  klaksvik.\n",
      "Processing Record 42 of Set 3  |  pierre.\n",
      "Processing Record 43 of Set 3  |  mount gambier.\n",
      "Processing Record 44 of Set 3  |  saskylakh.\n",
      "Processing Record 45 of Set 3  |  limbang.\n",
      "Processing Record 46 of Set 3  |  santa ana.\n",
      "Processing Record 47 of Set 3  |  codrington.\n",
      "Processing Record 48 of Set 3  |  mar del plata.\n",
      "Processing Record 49 of Set 3  |  yellowknife.\n",
      "Processing Record 50 of Set 3  |  airai.\n",
      "Processing Record 1 of Set 4  |  pontes e lacerda.\n",
      "Processing Record 2 of Set 4  |  tuatapere.\n",
      "Processing Record 3 of Set 4  |  urambo.\n",
      "Processing Record 4 of Set 4  |  hihifo.\n",
      "City not found. Skipping...\n",
      "Processing Record 5 of Set 4  |  mrirt.\n",
      "City not found. Skipping...\n",
      "Processing Record 6 of Set 4  |  mayumba.\n",
      "Processing Record 7 of Set 4  |  namikupa.\n",
      "Processing Record 8 of Set 4  |  te anau.\n",
      "Processing Record 9 of Set 4  |  eureka.\n",
      "Processing Record 10 of Set 4  |  aklavik.\n",
      "Processing Record 11 of Set 4  |  barbar.\n",
      "City not found. Skipping...\n",
      "Processing Record 12 of Set 4  |  mocambique.\n",
      "City not found. Skipping...\n",
      "Processing Record 13 of Set 4  |  butaritari.\n",
      "Processing Record 14 of Set 4  |  tynset.\n",
      "Processing Record 15 of Set 4  |  labrea.\n",
      "Processing Record 16 of Set 4  |  salihorsk.\n",
      "Processing Record 17 of Set 4  |  srednekolymsk.\n",
      "Processing Record 18 of Set 4  |  never.\n",
      "Processing Record 19 of Set 4  |  mishkino.\n",
      "Processing Record 20 of Set 4  |  new norfolk.\n",
      "Processing Record 21 of Set 4  |  kapaa.\n",
      "Processing Record 22 of Set 4  |  atambua.\n",
      "Processing Record 23 of Set 4  |  sandpoint.\n",
      "Processing Record 24 of Set 4  |  novorudnyy.\n",
      "Processing Record 25 of Set 4  |  calama.\n",
      "Processing Record 26 of Set 4  |  nizhniy kuranakh.\n"
     ]
    },
    {
     "name": "stdout",
     "output_type": "stream",
     "text": [
      "Processing Record 27 of Set 4  |  lhuntshi.\n",
      "City not found. Skipping...\n",
      "Processing Record 28 of Set 4  |  maues.\n",
      "Processing Record 29 of Set 4  |  carmen.\n",
      "Processing Record 30 of Set 4  |  saint-pierre.\n",
      "Processing Record 31 of Set 4  |  husavik.\n",
      "Processing Record 32 of Set 4  |  pevek.\n",
      "Processing Record 33 of Set 4  |  nizhneyansk.\n",
      "City not found. Skipping...\n",
      "Processing Record 34 of Set 4  |  chapais.\n",
      "Processing Record 35 of Set 4  |  khatanga.\n",
      "Processing Record 36 of Set 4  |  constitucion.\n",
      "Processing Record 37 of Set 4  |  avarua.\n",
      "Processing Record 38 of Set 4  |  oktyabrskiy.\n",
      "Processing Record 39 of Set 4  |  cavalcante.\n",
      "Processing Record 40 of Set 4  |  harper.\n",
      "Processing Record 41 of Set 4  |  miragoane.\n",
      "Processing Record 42 of Set 4  |  hovd.\n",
      "Processing Record 43 of Set 4  |  okato.\n",
      "Processing Record 44 of Set 4  |  wanning.\n",
      "Processing Record 45 of Set 4  |  petropavlovsk-kamchatskiy.\n",
      "Processing Record 46 of Set 4  |  samusu.\n",
      "City not found. Skipping...\n",
      "Processing Record 47 of Set 4  |  barentsburg.\n",
      "City not found. Skipping...\n",
      "Processing Record 48 of Set 4  |  bathsheba.\n",
      "Processing Record 49 of Set 4  |  turukhansk.\n",
      "Processing Record 50 of Set 4  |  moranbah.\n",
      "Processing Record 1 of Set 5  |  great yarmouth.\n",
      "Processing Record 2 of Set 5  |  manyana.\n",
      "Processing Record 3 of Set 5  |  man.\n",
      "Processing Record 4 of Set 5  |  san patricio.\n",
      "Processing Record 5 of Set 5  |  durusu.\n",
      "Processing Record 6 of Set 5  |  makakilo city.\n",
      "Processing Record 7 of Set 5  |  longyearbyen.\n",
      "Processing Record 8 of Set 5  |  anjozorobe.\n",
      "Processing Record 9 of Set 5  |  farmington.\n",
      "Processing Record 10 of Set 5  |  vaitupu.\n",
      "City not found. Skipping...\n",
      "Processing Record 11 of Set 5  |  aguimes.\n",
      "Processing Record 12 of Set 5  |  tanabi.\n",
      "Processing Record 13 of Set 5  |  geraldton.\n",
      "Processing Record 14 of Set 5  |  saint george.\n",
      "Processing Record 15 of Set 5  |  artyom.\n",
      "Processing Record 16 of Set 5  |  noumea.\n",
      "Processing Record 17 of Set 5  |  ilmajoki.\n",
      "Processing Record 18 of Set 5  |  rabo de peixe.\n",
      "Processing Record 19 of Set 5  |  singaraja.\n",
      "Processing Record 20 of Set 5  |  hobart.\n",
      "Processing Record 21 of Set 5  |  motygino.\n",
      "Processing Record 22 of Set 5  |  comodoro rivadavia.\n",
      "Processing Record 23 of Set 5  |  trois-pistoles.\n",
      "City not found. Skipping...\n",
      "Processing Record 24 of Set 5  |  aflu.\n",
      "City not found. Skipping...\n",
      "Processing Record 25 of Set 5  |  rio grande.\n",
      "Processing Record 26 of Set 5  |  chicama.\n",
      "Processing Record 27 of Set 5  |  patrocinio.\n",
      "Processing Record 28 of Set 5  |  jining.\n",
      "Processing Record 29 of Set 5  |  laguna.\n",
      "Processing Record 30 of Set 5  |  mount isa.\n",
      "Processing Record 31 of Set 5  |  koboko.\n",
      "Processing Record 32 of Set 5  |  vostok.\n",
      "Processing Record 33 of Set 5  |  burica.\n",
      "City not found. Skipping...\n",
      "Processing Record 34 of Set 5  |  torbay.\n",
      "Processing Record 35 of Set 5  |  beaver dam.\n",
      "Processing Record 36 of Set 5  |  lavrentiya.\n",
      "Processing Record 37 of Set 5  |  ilulissat.\n",
      "Processing Record 38 of Set 5  |  hambantota.\n",
      "Processing Record 39 of Set 5  |  haines junction.\n",
      "Processing Record 40 of Set 5  |  marienburg.\n",
      "Processing Record 41 of Set 5  |  cidreira.\n",
      "Processing Record 42 of Set 5  |  mortka.\n",
      "Processing Record 43 of Set 5  |  payakumbuh.\n",
      "Processing Record 44 of Set 5  |  mahebourg.\n",
      "Processing Record 45 of Set 5  |  maniitsoq.\n",
      "Processing Record 46 of Set 5  |  bac lieu.\n",
      "Processing Record 47 of Set 5  |  suba.\n",
      "Processing Record 48 of Set 5  |  dingle.\n",
      "Processing Record 49 of Set 5  |  marystown.\n",
      "Processing Record 50 of Set 5  |  yabrud.\n",
      "Processing Record 1 of Set 6  |  obluche.\n",
      "City not found. Skipping...\n",
      "Processing Record 2 of Set 6  |  manaure.\n",
      "Processing Record 3 of Set 6  |  rantauprapat.\n",
      "Processing Record 4 of Set 6  |  davod.\n",
      "Processing Record 5 of Set 6  |  mackenzie.\n",
      "Processing Record 6 of Set 6  |  olafsvik.\n",
      "Processing Record 7 of Set 6  |  chimbote.\n",
      "Processing Record 8 of Set 6  |  egvekinot.\n",
      "Processing Record 9 of Set 6  |  waingapu.\n",
      "Processing Record 10 of Set 6  |  capinota.\n",
      "Processing Record 11 of Set 6  |  tecoanapa.\n",
      "Processing Record 12 of Set 6  |  aitape.\n",
      "Processing Record 13 of Set 6  |  ucluelet.\n",
      "Processing Record 14 of Set 6  |  hauterive.\n",
      "Processing Record 15 of Set 6  |  port hardy.\n",
      "Processing Record 16 of Set 6  |  los llanos de aridane.\n",
      "Processing Record 17 of Set 6  |  octeville.\n",
      "Processing Record 18 of Set 6  |  saryshagan.\n",
      "City not found. Skipping...\n",
      "Processing Record 19 of Set 6  |  fairbanks.\n",
      "Processing Record 20 of Set 6  |  souillac.\n",
      "Processing Record 21 of Set 6  |  saldanha.\n",
      "Processing Record 22 of Set 6  |  gold coast.\n",
      "Processing Record 23 of Set 6  |  guozhen.\n",
      "Processing Record 24 of Set 6  |  pisco.\n",
      "Processing Record 25 of Set 6  |  goderich.\n",
      "Processing Record 26 of Set 6  |  emerald.\n",
      "Processing Record 27 of Set 6  |  bilibino.\n",
      "Processing Record 28 of Set 6  |  kolda.\n",
      "Processing Record 29 of Set 6  |  beirut.\n",
      "Processing Record 30 of Set 6  |  mys shmidta.\n",
      "City not found. Skipping...\n",
      "Processing Record 31 of Set 6  |  verkhnevilyuysk.\n",
      "Processing Record 32 of Set 6  |  coquimbo.\n",
      "Processing Record 33 of Set 6  |  broken hill.\n",
      "Processing Record 34 of Set 6  |  whyalla.\n",
      "Processing Record 35 of Set 6  |  sentyabrskiy.\n",
      "City not found. Skipping...\n",
      "Processing Record 36 of Set 6  |  moose factory.\n",
      "Processing Record 37 of Set 6  |  mangan.\n",
      "Processing Record 38 of Set 6  |  kedrovyy.\n",
      "Processing Record 39 of Set 6  |  sur.\n",
      "Processing Record 40 of Set 6  |  nguiu.\n",
      "City not found. Skipping...\n",
      "Processing Record 41 of Set 6  |  delano.\n",
      "Processing Record 42 of Set 6  |  beloha.\n",
      "Processing Record 43 of Set 6  |  ponta delgada.\n",
      "Processing Record 44 of Set 6  |  bodden town.\n",
      "Processing Record 45 of Set 6  |  tiznit.\n",
      "Processing Record 46 of Set 6  |  itaituba.\n",
      "Processing Record 47 of Set 6  |  jabiru.\n",
      "City not found. Skipping...\n",
      "Processing Record 48 of Set 6  |  suhbaatar.\n",
      "Processing Record 49 of Set 6  |  ust-kuyga.\n",
      "Processing Record 50 of Set 6  |  thunder bay.\n",
      "Processing Record 1 of Set 7  |  jackson.\n",
      "Processing Record 2 of Set 7  |  darlawn.\n",
      "Processing Record 3 of Set 7  |  mukhen.\n",
      "Processing Record 4 of Set 7  |  utmanzai.\n",
      "Processing Record 5 of Set 7  |  neuquen.\n",
      "Processing Record 6 of Set 7  |  powell.\n",
      "Processing Record 7 of Set 7  |  witu.\n",
      "Processing Record 8 of Set 7  |  vardo.\n",
      "Processing Record 9 of Set 7  |  boshnyakovo.\n",
      "Processing Record 10 of Set 7  |  puri.\n",
      "Processing Record 11 of Set 7  |  paicandu.\n",
      "Processing Record 12 of Set 7  |  edirne.\n",
      "Processing Record 13 of Set 7  |  tabiauea.\n",
      "City not found. Skipping...\n",
      "Processing Record 14 of Set 7  |  palana.\n",
      "Processing Record 15 of Set 7  |  adrar.\n",
      "Processing Record 16 of Set 7  |  rio gallegos.\n",
      "Processing Record 17 of Set 7  |  sibolga.\n",
      "Processing Record 18 of Set 7  |  yining.\n",
      "Processing Record 19 of Set 7  |  half moon bay.\n",
      "Processing Record 20 of Set 7  |  feijo.\n",
      "Processing Record 21 of Set 7  |  hokitika.\n",
      "Processing Record 22 of Set 7  |  nuuk.\n",
      "Processing Record 23 of Set 7  |  kalmunai.\n",
      "Processing Record 24 of Set 7  |  likasi.\n",
      "Processing Record 25 of Set 7  |  nanortalik.\n",
      "Processing Record 26 of Set 7  |  lolua.\n",
      "City not found. Skipping...\n",
      "Processing Record 27 of Set 7  |  miri.\n",
      "Processing Record 28 of Set 7  |  bandarbeyla.\n",
      "Processing Record 29 of Set 7  |  cervo.\n",
      "Processing Record 30 of Set 7  |  erzin.\n",
      "Processing Record 31 of Set 7  |  cayenne.\n",
      "Processing Record 32 of Set 7  |  belaya gora.\n",
      "Processing Record 33 of Set 7  |  karaul.\n",
      "City not found. Skipping...\n",
      "Processing Record 34 of Set 7  |  magomeni.\n",
      "Processing Record 35 of Set 7  |  bakchar.\n",
      "Processing Record 36 of Set 7  |  baykit.\n",
      "Processing Record 37 of Set 7  |  road town.\n",
      "Processing Record 38 of Set 7  |  gidole.\n",
      "Processing Record 39 of Set 7  |  saint anthony.\n",
      "Processing Record 40 of Set 7  |  miracema do tocantins.\n",
      "Processing Record 41 of Set 7  |  nanma.\n",
      "Processing Record 42 of Set 7  |  oliveira.\n",
      "Processing Record 43 of Set 7  |  ngunguru.\n",
      "Processing Record 44 of Set 7  |  kutum.\n",
      "Processing Record 45 of Set 7  |  padang.\n",
      "Processing Record 46 of Set 7  |  mujiayingzi.\n",
      "Processing Record 47 of Set 7  |  tabou.\n",
      "Processing Record 48 of Set 7  |  longyan.\n",
      "Processing Record 49 of Set 7  |  kuching.\n",
      "Processing Record 50 of Set 7  |  tommot.\n",
      "Processing Record 1 of Set 8  |  karpogory.\n"
     ]
    },
    {
     "name": "stdout",
     "output_type": "stream",
     "text": [
      "Processing Record 2 of Set 8  |  vestmannaeyjar.\n",
      "Processing Record 3 of Set 8  |  muroto.\n",
      "Processing Record 4 of Set 8  |  broome.\n",
      "Processing Record 5 of Set 8  |  port-gentil.\n",
      "Processing Record 6 of Set 8  |  flinders.\n",
      "Processing Record 7 of Set 8  |  attawapiskat.\n",
      "City not found. Skipping...\n",
      "Processing Record 8 of Set 8  |  tasiilaq.\n",
      "Processing Record 9 of Set 8  |  harlingen.\n",
      "Processing Record 10 of Set 8  |  ullapool.\n",
      "Processing Record 11 of Set 8  |  zeya.\n",
      "Processing Record 12 of Set 8  |  leningradskiy.\n",
      "Processing Record 13 of Set 8  |  umzimvubu.\n",
      "City not found. Skipping...\n",
      "Processing Record 14 of Set 8  |  acarau.\n",
      "Processing Record 15 of Set 8  |  camana.\n",
      "Processing Record 16 of Set 8  |  grand river south east.\n",
      "City not found. Skipping...\n",
      "Processing Record 17 of Set 8  |  sayanskiy.\n",
      "City not found. Skipping...\n",
      "Processing Record 18 of Set 8  |  armidale.\n",
      "Processing Record 19 of Set 8  |  yeppoon.\n",
      "Processing Record 20 of Set 8  |  boone.\n",
      "Processing Record 21 of Set 8  |  esperance.\n",
      "Processing Record 22 of Set 8  |  igarka.\n",
      "Processing Record 23 of Set 8  |  port elizabeth.\n",
      "Processing Record 24 of Set 8  |  margate.\n",
      "Processing Record 25 of Set 8  |  mullaitivu.\n",
      "City not found. Skipping...\n",
      "Processing Record 26 of Set 8  |  yomitan.\n",
      "City not found. Skipping...\n",
      "Processing Record 27 of Set 8  |  lompoc.\n",
      "Processing Record 28 of Set 8  |  jumla.\n",
      "Processing Record 29 of Set 8  |  aswan.\n",
      "Processing Record 30 of Set 8  |  bridgetown.\n",
      "Processing Record 31 of Set 8  |  tateyama.\n",
      "Processing Record 32 of Set 8  |  sinop.\n",
      "Processing Record 33 of Set 8  |  lesnoy.\n",
      "Processing Record 34 of Set 8  |  dogondoutchi.\n",
      "Processing Record 35 of Set 8  |  keetmanshoop.\n",
      "Processing Record 36 of Set 8  |  gravdal.\n",
      "Processing Record 37 of Set 8  |  college.\n",
      "Processing Record 38 of Set 8  |  santo antonio da platina.\n",
      "Processing Record 39 of Set 8  |  beisfjord.\n",
      "Processing Record 40 of Set 8  |  north platte.\n",
      "Processing Record 41 of Set 8  |  petrolandia.\n",
      "City not found. Skipping...\n",
      "Processing Record 42 of Set 8  |  shingu.\n",
      "Processing Record 43 of Set 8  |  nichlaul.\n",
      "Processing Record 44 of Set 8  |  grindavik.\n",
      "Processing Record 45 of Set 8  |  boda.\n",
      "Processing Record 46 of Set 8  |  lookan.\n",
      "Processing Record 47 of Set 8  |  dudinka.\n",
      "Processing Record 48 of Set 8  |  davidson.\n",
      "Processing Record 49 of Set 8  |  asfi.\n",
      "Processing Record 50 of Set 8  |  vao.\n",
      "Processing Record 1 of Set 9  |  bay roberts.\n",
      "Processing Record 2 of Set 9  |  tygda.\n",
      "Processing Record 3 of Set 9  |  henties bay.\n",
      "Processing Record 4 of Set 9  |  ambilobe.\n",
      "Processing Record 5 of Set 9  |  petauke.\n",
      "Processing Record 6 of Set 9  |  bokspits.\n",
      "City not found. Skipping...\n",
      "Processing Record 7 of Set 9  |  khartoum.\n",
      "Processing Record 8 of Set 9  |  sept-iles.\n",
      "Processing Record 9 of Set 9  |  yulara.\n",
      "Processing Record 10 of Set 9  |  shache.\n",
      "Processing Record 11 of Set 9  |  limoux.\n",
      "Processing Record 12 of Set 9  |  pomabamba.\n",
      "Processing Record 13 of Set 9  |  fatehpur.\n",
      "Processing Record 14 of Set 9  |  lamu.\n",
      "Processing Record 15 of Set 9  |  meulaboh.\n",
      "Processing Record 16 of Set 9  |  sulangan.\n",
      "Processing Record 17 of Set 9  |  ratoath.\n",
      "Processing Record 18 of Set 9  |  tezu.\n",
      "Processing Record 19 of Set 9  |  biharamulo.\n",
      "Processing Record 20 of Set 9  |  saleaula.\n",
      "City not found. Skipping...\n",
      "Processing Record 21 of Set 9  |  tsienyane.\n",
      "City not found. Skipping...\n",
      "Processing Record 22 of Set 9  |  singaparna.\n",
      "Processing Record 23 of Set 9  |  berdyuzhye.\n",
      "City not found. Skipping...\n",
      "Processing Record 24 of Set 9  |  ljubinje.\n",
      "Processing Record 25 of Set 9  |  sakakah.\n",
      "Processing Record 26 of Set 9  |  lulea.\n",
      "Processing Record 27 of Set 9  |  vanavara.\n",
      "Processing Record 28 of Set 9  |  dukat.\n",
      "Processing Record 29 of Set 9  |  praya.\n",
      "Processing Record 30 of Set 9  |  ponnani.\n",
      "Processing Record 31 of Set 9  |  karasjok.\n",
      "Processing Record 32 of Set 9  |  chagda.\n",
      "City not found. Skipping...\n",
      "Processing Record 33 of Set 9  |  ihosy.\n",
      "Processing Record 34 of Set 9  |  sao jose da coroa grande.\n",
      "Processing Record 35 of Set 9  |  khandyga.\n",
      "Processing Record 36 of Set 9  |  warqla.\n",
      "City not found. Skipping...\n",
      "Processing Record 37 of Set 9  |  baruun-urt.\n",
      "Processing Record 38 of Set 9  |  la ronge.\n",
      "Processing Record 39 of Set 9  |  praia da vitoria.\n",
      "Processing Record 40 of Set 9  |  cockburn town.\n",
      "Processing Record 41 of Set 9  |  rafraf.\n",
      "Processing Record 42 of Set 9  |  louisbourg.\n",
      "City not found. Skipping...\n",
      "Processing Record 43 of Set 9  |  praia.\n",
      "Processing Record 44 of Set 9  |  tanout.\n",
      "Processing Record 45 of Set 9  |  sambava.\n",
      "Processing Record 46 of Set 9  |  xinqing.\n",
      "Processing Record 47 of Set 9  |  komsomolskiy.\n",
      "Processing Record 48 of Set 9  |  black river.\n",
      "Processing Record 49 of Set 9  |  seddon.\n",
      "Processing Record 50 of Set 9  |  ahuimanu.\n",
      "Processing Record 1 of Set 10  |  sobolevo.\n",
      "Processing Record 2 of Set 10  |  berlevag.\n",
      "Processing Record 3 of Set 10  |  lakes entrance.\n",
      "Processing Record 4 of Set 10  |  nichinan.\n",
      "Processing Record 5 of Set 10  |  marabba.\n",
      "Processing Record 6 of Set 10  |  avera.\n",
      "Processing Record 7 of Set 10  |  cikupa.\n",
      "Processing Record 8 of Set 10  |  salamiyah.\n",
      "Processing Record 9 of Set 10  |  york.\n",
      "Processing Record 10 of Set 10  |  bereda.\n",
      "Processing Record 11 of Set 10  |  harboore.\n",
      "Processing Record 12 of Set 10  |  vila do maio.\n",
      "Processing Record 13 of Set 10  |  kulhudhuffushi.\n",
      "Processing Record 14 of Set 10  |  katsuura.\n",
      "Processing Record 15 of Set 10  |  vedi.\n",
      "Processing Record 16 of Set 10  |  mbekenyera.\n",
      "Processing Record 17 of Set 10  |  erenhot.\n",
      "Processing Record 18 of Set 10  |  olesnica.\n",
      "Processing Record 19 of Set 10  |  kaohsiung.\n",
      "Processing Record 20 of Set 10  |  puerto carreno.\n",
      "Processing Record 21 of Set 10  |  minsk.\n",
      "Processing Record 22 of Set 10  |  palabuhanratu.\n",
      "City not found. Skipping...\n",
      "Processing Record 23 of Set 10  |  ust-omchug.\n",
      "Processing Record 24 of Set 10  |  tigil.\n",
      "Processing Record 25 of Set 10  |  dongsheng.\n",
      "Processing Record 26 of Set 10  |  sitka.\n",
      "Processing Record 27 of Set 10  |  san policarpo.\n",
      "Processing Record 28 of Set 10  |  berdigestyakh.\n",
      "Processing Record 29 of Set 10  |  uruguaiana.\n",
      "Processing Record 30 of Set 10  |  hasaki.\n",
      "Processing Record 31 of Set 10  |  longlac.\n",
      "City not found. Skipping...\n",
      "Processing Record 32 of Set 10  |  hualmay.\n",
      "Processing Record 33 of Set 10  |  higuey.\n",
      "City not found. Skipping...\n",
      "Processing Record 34 of Set 10  |  storslett.\n",
      "Processing Record 35 of Set 10  |  teya.\n",
      "Processing Record 36 of Set 10  |  qianan.\n",
      "Processing Record 37 of Set 10  |  inhuma.\n",
      "Processing Record 38 of Set 10  |  chernyshevskiy.\n",
      "Processing Record 39 of Set 10  |  temaraia.\n",
      "City not found. Skipping...\n",
      "Processing Record 40 of Set 10  |  axim.\n",
      "Processing Record 41 of Set 10  |  puerto narino.\n",
      "Processing Record 42 of Set 10  |  ancud.\n",
      "Processing Record 43 of Set 10  |  samarai.\n",
      "Processing Record 44 of Set 10  |  carballo.\n",
      "Processing Record 45 of Set 10  |  manokwari.\n",
      "Processing Record 46 of Set 10  |  yenagoa.\n",
      "Processing Record 47 of Set 10  |  bonavista.\n",
      "Processing Record 48 of Set 10  |  biak.\n",
      "Processing Record 49 of Set 10  |  shimoda.\n",
      "Processing Record 50 of Set 10  |  najran.\n",
      "Processing Record 1 of Set 11  |  havoysund.\n",
      "Processing Record 2 of Set 11  |  goure.\n",
      "Processing Record 3 of Set 11  |  gurupa.\n",
      "Processing Record 4 of Set 11  |  boljarovo.\n",
      "City not found. Skipping...\n",
      "Processing Record 5 of Set 11  |  borogontsy.\n",
      "Processing Record 6 of Set 11  |  florianopolis.\n",
      "Processing Record 7 of Set 11  |  ewa beach.\n",
      "Processing Record 8 of Set 11  |  kultuk.\n",
      "Processing Record 9 of Set 11  |  mbaiki.\n",
      "Processing Record 10 of Set 11  |  inirida.\n",
      "Processing Record 11 of Set 11  |  afsin.\n",
      "Processing Record 12 of Set 11  |  mlalo.\n",
      "Processing Record 13 of Set 11  |  troitsko-pechorsk.\n",
      "Processing Record 14 of Set 11  |  atlantic city.\n",
      "Processing Record 15 of Set 11  |  mattawa.\n",
      "Processing Record 16 of Set 11  |  uetersen.\n",
      "Processing Record 17 of Set 11  |  belyy yar.\n",
      "Processing Record 18 of Set 11  |  great falls.\n",
      "Processing Record 19 of Set 11  |  mehriz.\n",
      "Processing Record 20 of Set 11  |  ancona.\n",
      "Processing Record 21 of Set 11  |  kattivakkam.\n",
      "Processing Record 22 of Set 11  |  grand gaube.\n",
      "Processing Record 23 of Set 11  |  zemio.\n",
      "Processing Record 24 of Set 11  |  san luis.\n"
     ]
    },
    {
     "name": "stdout",
     "output_type": "stream",
     "text": [
      "Processing Record 25 of Set 11  |  moron.\n",
      "Processing Record 26 of Set 11  |  viedma.\n",
      "Processing Record 27 of Set 11  |  outlook.\n",
      "Processing Record 28 of Set 11  |  virginia beach.\n",
      "Processing Record 29 of Set 11  |  sao lourenco do sul.\n",
      "Processing Record 30 of Set 11  |  yerofey pavlovich.\n",
      "Processing Record 31 of Set 11  |  kalabo.\n",
      "Processing Record 32 of Set 11  |  tagusao.\n",
      "Processing Record 33 of Set 11  |  kaeo.\n",
      "Processing Record 34 of Set 11  |  celestun.\n",
      "Processing Record 35 of Set 11  |  teahupoo.\n",
      "Processing Record 36 of Set 11  |  comitancillo.\n",
      "Processing Record 37 of Set 11  |  phulji.\n",
      "Processing Record 38 of Set 11  |  beringovskiy.\n",
      "Processing Record 39 of Set 11  |  lorengau.\n",
      "Processing Record 40 of Set 11  |  ostrovnoy.\n",
      "Processing Record 41 of Set 11  |  khowst.\n",
      "Processing Record 42 of Set 11  |  san quintin.\n",
      "Processing Record 43 of Set 11  |  plettenberg bay.\n",
      "Processing Record 44 of Set 11  |  panaba.\n",
      "Processing Record 45 of Set 11  |  beira.\n",
      "Processing Record 46 of Set 11  |  corozal.\n",
      "Processing Record 47 of Set 11  |  atkarsk.\n",
      "Processing Record 48 of Set 11  |  lincoln.\n",
      "Processing Record 49 of Set 11  |  novosheshminsk.\n",
      "Processing Record 50 of Set 11  |  lixourion.\n",
      "Processing Record 1 of Set 12  |  zinder.\n",
      "Processing Record 2 of Set 12  |  san cristobal.\n",
      "Processing Record 3 of Set 12  |  plainview.\n",
      "Processing Record 4 of Set 12  |  arkhangelos.\n",
      "City not found. Skipping...\n",
      "Processing Record 5 of Set 12  |  orlik.\n",
      "Processing Record 6 of Set 12  |  merrill.\n",
      "Processing Record 7 of Set 12  |  gweta.\n",
      "Processing Record 8 of Set 12  |  huntsville.\n",
      "Processing Record 9 of Set 12  |  batemans bay.\n",
      "Processing Record 10 of Set 12  |  raudeberg.\n",
      "Processing Record 11 of Set 12  |  kataysk.\n",
      "Processing Record 12 of Set 12  |  kudahuvadhoo.\n",
      "Processing Record 13 of Set 12  |  santa cruz de tenerife.\n",
      "Processing Record 14 of Set 12  |  burgeo.\n",
      "Processing Record 15 of Set 12  |  casablanca.\n",
      "Processing Record 16 of Set 12  |  grand-santi.\n",
      "Processing Record 17 of Set 12  |  strezhevoy.\n",
      "Processing Record 18 of Set 12  |  mpika.\n",
      "Processing Record 19 of Set 12  |  bolungarvik.\n",
      "City not found. Skipping...\n",
      "Processing Record 20 of Set 12  |  labuhan.\n",
      "Processing Record 21 of Set 12  |  lebyazhye.\n",
      "Processing Record 22 of Set 12  |  makasar.\n",
      "Processing Record 23 of Set 12  |  emba.\n",
      "Processing Record 24 of Set 12  |  senno.\n",
      "Processing Record 25 of Set 12  |  phrai bung.\n",
      "City not found. Skipping...\n",
      "Processing Record 26 of Set 12  |  labutta.\n",
      "City not found. Skipping...\n",
      "Processing Record 27 of Set 12  |  sofiysk.\n",
      "City not found. Skipping...\n",
      "Processing Record 28 of Set 12  |  tautira.\n",
      "Processing Record 29 of Set 12  |  reitz.\n",
      "Processing Record 30 of Set 12  |  asyut.\n",
      "Processing Record 31 of Set 12  |  pangnirtung.\n",
      "Processing Record 32 of Set 12  |  tottori.\n",
      "Processing Record 33 of Set 12  |  coihaique.\n",
      "Processing Record 34 of Set 12  |  arica.\n",
      "Processing Record 35 of Set 12  |  talnakh.\n",
      "Processing Record 36 of Set 12  |  catia la mar.\n",
      "Processing Record 37 of Set 12  |  hue.\n",
      "Processing Record 38 of Set 12  |  qandahar.\n",
      "City not found. Skipping...\n",
      "Processing Record 39 of Set 12  |  khasan.\n",
      "Processing Record 40 of Set 12  |  san isidro.\n",
      "----------------------------------\n",
      "Data Retrieval Complete\n",
      "----------------------------------\n"
     ]
    }
   ],
   "source": [
    "# Save config information.\n",
    "url = \"http://api.openweathermap.org/data/2.5/weather?\"\n",
    "units = \"imperial\"\n",
    "\n",
    "temp=[]\n",
    "lat=[]\n",
    "long=[]\n",
    "clouds=[]\n",
    "humidity=[]\n",
    "wind=[]\n",
    "date=[]\n",
    "country=[]\n",
    "city_name=[]\n",
    "\n",
    "# Build partial query URL\n",
    "#query_url = f\"{url}appid={api_key}&q={city}&units={units}\"\n",
    "query_url = f\"{url}appid={weather_api_key}&units={units}&q=\"   \n",
    "print(\"----------------------------------\")\n",
    "print(f\"Beginning Data Retrieval\")\n",
    "print(\"----------------------------------\")\n",
    "\n",
    "set_=1\n",
    "record=1\n",
    "for city in cities:\n",
    "\n",
    " \n",
    "    try:\n",
    "        \n",
    "        print(f\"Processing Record {record} of Set {set_}  |  {city}.\")\n",
    "        \n",
    "        if record==50:\n",
    "            set_=set_+1\n",
    "            record=0\n",
    "        record=record+1\n",
    "        \n",
    "        response=requests.get(query_url + city).json()\n",
    "        lat.append(response[\"coord\"][\"lat\"])\n",
    "        long.append(response[\"coord\"][\"lon\"])\n",
    "        temp.append(response[\"main\"][\"temp_max\"])\n",
    "        wind.append(response[\"wind\"][\"speed\"])\n",
    "        clouds.append(response[\"clouds\"][\"all\"])\n",
    "        humidity.append(response[\"main\"][\"humidity\"])\n",
    "        date.append(response[\"dt\"])\n",
    "        country.append(response[\"sys\"][\"country\"])\n",
    "        city_name.append(response[\"name\"])\n",
    "    except Exception:\n",
    "        print(\"City not found. Skipping...\")\n",
    "\n",
    "print(\"----------------------------------\")    \n",
    "print(f\"Data Retrieval Complete\")\n",
    "print(\"----------------------------------\")    \n",
    "    \n",
    "    "
   ]
  },
  {
   "cell_type": "markdown",
   "metadata": {},
   "source": [
    "### Convert Raw Data to DataFrame\n",
    "* Export the city data into a .csv.\n",
    "* Display the DataFrame"
   ]
  },
  {
   "cell_type": "code",
   "execution_count": 6,
   "metadata": {},
   "outputs": [
    {
     "name": "stdout",
     "output_type": "stream",
     "text": [
      "<class 'pandas.core.frame.DataFrame'>\n",
      "RangeIndex: 535 entries, 0 to 534\n",
      "Data columns (total 9 columns):\n",
      " #   Column      Non-Null Count  Dtype  \n",
      "---  ------      --------------  -----  \n",
      " 0   City        535 non-null    object \n",
      " 1   Lat         535 non-null    float64\n",
      " 2   Lng         535 non-null    float64\n",
      " 3   Max Temp    535 non-null    float64\n",
      " 4   Humidity    535 non-null    int64  \n",
      " 5   Cloudiness  535 non-null    int64  \n",
      " 6   Wind Speed  535 non-null    float64\n",
      " 7   Country     535 non-null    object \n",
      " 8   Date        535 non-null    int64  \n",
      "dtypes: float64(4), int64(3), object(2)\n",
      "memory usage: 37.7+ KB\n"
     ]
    }
   ],
   "source": [
    "weather_df=pd.DataFrame({\"City\":city_name, \"Lat\":lat, \"Lng\":long, \"Max Temp\": temp, \"Humidity\":humidity, \n",
    "                          \"Cloudiness\":clouds, \"Wind Speed\":wind, \"Country\":country, \"Date\": date})\n",
    "\n",
    "weather_df.info()"
   ]
  },
  {
   "cell_type": "code",
   "execution_count": 7,
   "metadata": {},
   "outputs": [
    {
     "data": {
      "text/html": [
       "<div>\n",
       "<style scoped>\n",
       "    .dataframe tbody tr th:only-of-type {\n",
       "        vertical-align: middle;\n",
       "    }\n",
       "\n",
       "    .dataframe tbody tr th {\n",
       "        vertical-align: top;\n",
       "    }\n",
       "\n",
       "    .dataframe thead th {\n",
       "        text-align: right;\n",
       "    }\n",
       "</style>\n",
       "<table border=\"1\" class=\"dataframe\">\n",
       "  <thead>\n",
       "    <tr style=\"text-align: right;\">\n",
       "      <th></th>\n",
       "      <th>City</th>\n",
       "      <th>Lat</th>\n",
       "      <th>Lng</th>\n",
       "      <th>Max Temp</th>\n",
       "      <th>Humidity</th>\n",
       "      <th>Cloudiness</th>\n",
       "      <th>Wind Speed</th>\n",
       "      <th>Country</th>\n",
       "      <th>Date</th>\n",
       "    </tr>\n",
       "  </thead>\n",
       "  <tbody>\n",
       "    <tr>\n",
       "      <th>0</th>\n",
       "      <td>Upernavik</td>\n",
       "      <td>72.79</td>\n",
       "      <td>-56.15</td>\n",
       "      <td>34.50</td>\n",
       "      <td>87</td>\n",
       "      <td>0</td>\n",
       "      <td>7.47</td>\n",
       "      <td>GL</td>\n",
       "      <td>1592439186</td>\n",
       "    </tr>\n",
       "    <tr>\n",
       "      <th>1</th>\n",
       "      <td>Hermanus</td>\n",
       "      <td>-34.42</td>\n",
       "      <td>19.23</td>\n",
       "      <td>48.99</td>\n",
       "      <td>84</td>\n",
       "      <td>21</td>\n",
       "      <td>1.01</td>\n",
       "      <td>ZA</td>\n",
       "      <td>1592439186</td>\n",
       "    </tr>\n",
       "    <tr>\n",
       "      <th>2</th>\n",
       "      <td>Punta Arenas</td>\n",
       "      <td>-53.15</td>\n",
       "      <td>-70.92</td>\n",
       "      <td>28.40</td>\n",
       "      <td>92</td>\n",
       "      <td>0</td>\n",
       "      <td>5.57</td>\n",
       "      <td>CL</td>\n",
       "      <td>1592438936</td>\n",
       "    </tr>\n",
       "    <tr>\n",
       "      <th>3</th>\n",
       "      <td>Ahipara</td>\n",
       "      <td>-35.17</td>\n",
       "      <td>173.17</td>\n",
       "      <td>60.96</td>\n",
       "      <td>80</td>\n",
       "      <td>63</td>\n",
       "      <td>8.70</td>\n",
       "      <td>NZ</td>\n",
       "      <td>1592439187</td>\n",
       "    </tr>\n",
       "    <tr>\n",
       "      <th>4</th>\n",
       "      <td>Trairi</td>\n",
       "      <td>-3.28</td>\n",
       "      <td>-39.27</td>\n",
       "      <td>75.61</td>\n",
       "      <td>90</td>\n",
       "      <td>13</td>\n",
       "      <td>8.43</td>\n",
       "      <td>BR</td>\n",
       "      <td>1592439187</td>\n",
       "    </tr>\n",
       "  </tbody>\n",
       "</table>\n",
       "</div>"
      ],
      "text/plain": [
       "           City    Lat     Lng  Max Temp  Humidity  Cloudiness  Wind Speed  \\\n",
       "0     Upernavik  72.79  -56.15     34.50        87           0        7.47   \n",
       "1      Hermanus -34.42   19.23     48.99        84          21        1.01   \n",
       "2  Punta Arenas -53.15  -70.92     28.40        92           0        5.57   \n",
       "3       Ahipara -35.17  173.17     60.96        80          63        8.70   \n",
       "4        Trairi  -3.28  -39.27     75.61        90          13        8.43   \n",
       "\n",
       "  Country        Date  \n",
       "0      GL  1592439186  \n",
       "1      ZA  1592439186  \n",
       "2      CL  1592438936  \n",
       "3      NZ  1592439187  \n",
       "4      BR  1592439187  "
      ]
     },
     "execution_count": 7,
     "metadata": {},
     "output_type": "execute_result"
    }
   ],
   "source": [
    "weather_df.head()"
   ]
  },
  {
   "cell_type": "markdown",
   "metadata": {},
   "source": [
    "## Inspect the data and remove the cities where the humidity > 100%.\n",
    "----\n",
    "Skip this step if there are no cities that have humidity > 100%. "
   ]
  },
  {
   "cell_type": "code",
   "execution_count": 8,
   "metadata": {},
   "outputs": [
    {
     "data": {
      "text/plain": [
       "100"
      ]
     },
     "execution_count": 8,
     "metadata": {},
     "output_type": "execute_result"
    }
   ],
   "source": [
    "#Inspect Humidity Column if > 100%\n",
    "weather_df[\"Humidity\"].max()"
   ]
  },
  {
   "cell_type": "code",
   "execution_count": 9,
   "metadata": {
    "scrolled": true
   },
   "outputs": [
    {
     "data": {
      "text/html": [
       "<div>\n",
       "<style scoped>\n",
       "    .dataframe tbody tr th:only-of-type {\n",
       "        vertical-align: middle;\n",
       "    }\n",
       "\n",
       "    .dataframe tbody tr th {\n",
       "        vertical-align: top;\n",
       "    }\n",
       "\n",
       "    .dataframe thead th {\n",
       "        text-align: right;\n",
       "    }\n",
       "</style>\n",
       "<table border=\"1\" class=\"dataframe\">\n",
       "  <thead>\n",
       "    <tr style=\"text-align: right;\">\n",
       "      <th></th>\n",
       "      <th>Lat</th>\n",
       "      <th>Lng</th>\n",
       "      <th>Max Temp</th>\n",
       "      <th>Humidity</th>\n",
       "      <th>Cloudiness</th>\n",
       "      <th>Wind Speed</th>\n",
       "      <th>Date</th>\n",
       "    </tr>\n",
       "  </thead>\n",
       "  <tbody>\n",
       "    <tr>\n",
       "      <th>count</th>\n",
       "      <td>535.000000</td>\n",
       "      <td>535.000000</td>\n",
       "      <td>535.000000</td>\n",
       "      <td>535.000000</td>\n",
       "      <td>535.000000</td>\n",
       "      <td>535.000000</td>\n",
       "      <td>5.350000e+02</td>\n",
       "    </tr>\n",
       "    <tr>\n",
       "      <th>mean</th>\n",
       "      <td>20.201607</td>\n",
       "      <td>17.860523</td>\n",
       "      <td>66.512654</td>\n",
       "      <td>70.613084</td>\n",
       "      <td>47.444860</td>\n",
       "      <td>8.045327</td>\n",
       "      <td>1.592439e+09</td>\n",
       "    </tr>\n",
       "    <tr>\n",
       "      <th>std</th>\n",
       "      <td>34.206829</td>\n",
       "      <td>91.104986</td>\n",
       "      <td>14.427973</td>\n",
       "      <td>20.230549</td>\n",
       "      <td>37.628684</td>\n",
       "      <td>5.107005</td>\n",
       "      <td>7.995514e+01</td>\n",
       "    </tr>\n",
       "    <tr>\n",
       "      <th>min</th>\n",
       "      <td>-54.800000</td>\n",
       "      <td>-179.170000</td>\n",
       "      <td>28.400000</td>\n",
       "      <td>3.000000</td>\n",
       "      <td>0.000000</td>\n",
       "      <td>0.400000</td>\n",
       "      <td>1.592439e+09</td>\n",
       "    </tr>\n",
       "    <tr>\n",
       "      <th>25%</th>\n",
       "      <td>-8.150000</td>\n",
       "      <td>-62.150000</td>\n",
       "      <td>55.400000</td>\n",
       "      <td>59.500000</td>\n",
       "      <td>7.500000</td>\n",
       "      <td>4.030000</td>\n",
       "      <td>1.592439e+09</td>\n",
       "    </tr>\n",
       "    <tr>\n",
       "      <th>50%</th>\n",
       "      <td>24.090000</td>\n",
       "      <td>22.570000</td>\n",
       "      <td>68.000000</td>\n",
       "      <td>75.000000</td>\n",
       "      <td>40.000000</td>\n",
       "      <td>6.930000</td>\n",
       "      <td>1.592439e+09</td>\n",
       "    </tr>\n",
       "    <tr>\n",
       "      <th>75%</th>\n",
       "      <td>49.985000</td>\n",
       "      <td>99.895000</td>\n",
       "      <td>77.870000</td>\n",
       "      <td>86.000000</td>\n",
       "      <td>84.000000</td>\n",
       "      <td>11.410000</td>\n",
       "      <td>1.592439e+09</td>\n",
       "    </tr>\n",
       "    <tr>\n",
       "      <th>max</th>\n",
       "      <td>78.220000</td>\n",
       "      <td>179.320000</td>\n",
       "      <td>96.280000</td>\n",
       "      <td>100.000000</td>\n",
       "      <td>100.000000</td>\n",
       "      <td>31.270000</td>\n",
       "      <td>1.592439e+09</td>\n",
       "    </tr>\n",
       "  </tbody>\n",
       "</table>\n",
       "</div>"
      ],
      "text/plain": [
       "              Lat         Lng    Max Temp    Humidity  Cloudiness  Wind Speed  \\\n",
       "count  535.000000  535.000000  535.000000  535.000000  535.000000  535.000000   \n",
       "mean    20.201607   17.860523   66.512654   70.613084   47.444860    8.045327   \n",
       "std     34.206829   91.104986   14.427973   20.230549   37.628684    5.107005   \n",
       "min    -54.800000 -179.170000   28.400000    3.000000    0.000000    0.400000   \n",
       "25%     -8.150000  -62.150000   55.400000   59.500000    7.500000    4.030000   \n",
       "50%     24.090000   22.570000   68.000000   75.000000   40.000000    6.930000   \n",
       "75%     49.985000   99.895000   77.870000   86.000000   84.000000   11.410000   \n",
       "max     78.220000  179.320000   96.280000  100.000000  100.000000   31.270000   \n",
       "\n",
       "               Date  \n",
       "count  5.350000e+02  \n",
       "mean   1.592439e+09  \n",
       "std    7.995514e+01  \n",
       "min    1.592439e+09  \n",
       "25%    1.592439e+09  \n",
       "50%    1.592439e+09  \n",
       "75%    1.592439e+09  \n",
       "max    1.592439e+09  "
      ]
     },
     "execution_count": 9,
     "metadata": {},
     "output_type": "execute_result"
    }
   ],
   "source": [
    "#This descibe function also indicates the maximum humidity is 100\n",
    "weather_df.describe()"
   ]
  },
  {
   "cell_type": "code",
   "execution_count": 10,
   "metadata": {},
   "outputs": [
    {
     "data": {
      "text/html": [
       "<div>\n",
       "<style scoped>\n",
       "    .dataframe tbody tr th:only-of-type {\n",
       "        vertical-align: middle;\n",
       "    }\n",
       "\n",
       "    .dataframe tbody tr th {\n",
       "        vertical-align: top;\n",
       "    }\n",
       "\n",
       "    .dataframe thead th {\n",
       "        text-align: right;\n",
       "    }\n",
       "</style>\n",
       "<table border=\"1\" class=\"dataframe\">\n",
       "  <thead>\n",
       "    <tr style=\"text-align: right;\">\n",
       "      <th></th>\n",
       "      <th>City</th>\n",
       "      <th>Lat</th>\n",
       "      <th>Lng</th>\n",
       "      <th>Max Temp</th>\n",
       "      <th>Humidity</th>\n",
       "      <th>Cloudiness</th>\n",
       "      <th>Wind Speed</th>\n",
       "      <th>Country</th>\n",
       "      <th>Date</th>\n",
       "    </tr>\n",
       "  </thead>\n",
       "  <tbody>\n",
       "  </tbody>\n",
       "</table>\n",
       "</div>"
      ],
      "text/plain": [
       "Empty DataFrame\n",
       "Columns: [City, Lat, Lng, Max Temp, Humidity, Cloudiness, Wind Speed, Country, Date]\n",
       "Index: []"
      ]
     },
     "execution_count": 10,
     "metadata": {},
     "output_type": "execute_result"
    }
   ],
   "source": [
    "#  Get the indices of cities that have humidity over 100%.\n",
    "\n",
    "drop_data = weather_df.loc[(weather_df[\"Humidity\"]>100)]\n",
    "\n",
    "drop_data.head()"
   ]
  },
  {
   "cell_type": "code",
   "execution_count": 11,
   "metadata": {},
   "outputs": [
    {
     "data": {
      "text/html": [
       "<div>\n",
       "<style scoped>\n",
       "    .dataframe tbody tr th:only-of-type {\n",
       "        vertical-align: middle;\n",
       "    }\n",
       "\n",
       "    .dataframe tbody tr th {\n",
       "        vertical-align: top;\n",
       "    }\n",
       "\n",
       "    .dataframe thead th {\n",
       "        text-align: right;\n",
       "    }\n",
       "</style>\n",
       "<table border=\"1\" class=\"dataframe\">\n",
       "  <thead>\n",
       "    <tr style=\"text-align: right;\">\n",
       "      <th></th>\n",
       "      <th>City</th>\n",
       "      <th>Lat</th>\n",
       "      <th>Lng</th>\n",
       "      <th>Max Temp</th>\n",
       "      <th>Humidity</th>\n",
       "      <th>Cloudiness</th>\n",
       "      <th>Wind Speed</th>\n",
       "      <th>Country</th>\n",
       "      <th>Date</th>\n",
       "    </tr>\n",
       "  </thead>\n",
       "  <tbody>\n",
       "    <tr>\n",
       "      <th>0</th>\n",
       "      <td>Upernavik</td>\n",
       "      <td>72.79</td>\n",
       "      <td>-56.15</td>\n",
       "      <td>34.50</td>\n",
       "      <td>87</td>\n",
       "      <td>0</td>\n",
       "      <td>7.47</td>\n",
       "      <td>GL</td>\n",
       "      <td>1592439186</td>\n",
       "    </tr>\n",
       "    <tr>\n",
       "      <th>1</th>\n",
       "      <td>Hermanus</td>\n",
       "      <td>-34.42</td>\n",
       "      <td>19.23</td>\n",
       "      <td>48.99</td>\n",
       "      <td>84</td>\n",
       "      <td>21</td>\n",
       "      <td>1.01</td>\n",
       "      <td>ZA</td>\n",
       "      <td>1592439186</td>\n",
       "    </tr>\n",
       "    <tr>\n",
       "      <th>2</th>\n",
       "      <td>Punta Arenas</td>\n",
       "      <td>-53.15</td>\n",
       "      <td>-70.92</td>\n",
       "      <td>28.40</td>\n",
       "      <td>92</td>\n",
       "      <td>0</td>\n",
       "      <td>5.57</td>\n",
       "      <td>CL</td>\n",
       "      <td>1592438936</td>\n",
       "    </tr>\n",
       "    <tr>\n",
       "      <th>3</th>\n",
       "      <td>Ahipara</td>\n",
       "      <td>-35.17</td>\n",
       "      <td>173.17</td>\n",
       "      <td>60.96</td>\n",
       "      <td>80</td>\n",
       "      <td>63</td>\n",
       "      <td>8.70</td>\n",
       "      <td>NZ</td>\n",
       "      <td>1592439187</td>\n",
       "    </tr>\n",
       "    <tr>\n",
       "      <th>4</th>\n",
       "      <td>Trairi</td>\n",
       "      <td>-3.28</td>\n",
       "      <td>-39.27</td>\n",
       "      <td>75.61</td>\n",
       "      <td>90</td>\n",
       "      <td>13</td>\n",
       "      <td>8.43</td>\n",
       "      <td>BR</td>\n",
       "      <td>1592439187</td>\n",
       "    </tr>\n",
       "  </tbody>\n",
       "</table>\n",
       "</div>"
      ],
      "text/plain": [
       "           City    Lat     Lng  Max Temp  Humidity  Cloudiness  Wind Speed  \\\n",
       "0     Upernavik  72.79  -56.15     34.50        87           0        7.47   \n",
       "1      Hermanus -34.42   19.23     48.99        84          21        1.01   \n",
       "2  Punta Arenas -53.15  -70.92     28.40        92           0        5.57   \n",
       "3       Ahipara -35.17  173.17     60.96        80          63        8.70   \n",
       "4        Trairi  -3.28  -39.27     75.61        90          13        8.43   \n",
       "\n",
       "  Country        Date  \n",
       "0      GL  1592439186  \n",
       "1      ZA  1592439186  \n",
       "2      CL  1592438936  \n",
       "3      NZ  1592439187  \n",
       "4      BR  1592439187  "
      ]
     },
     "execution_count": 11,
     "metadata": {},
     "output_type": "execute_result"
    }
   ],
   "source": [
    "# Make a new DataFrame equal to the city data to drop all humidity outliers\n",
    "\n",
    "clean_city_data = weather_df.loc[(weather_df[\"Humidity\"]<=100)]\n",
    "clean_city_data.head()\n",
    "#clean_city_data.info()"
   ]
  },
  {
   "cell_type": "code",
   "execution_count": 12,
   "metadata": {},
   "outputs": [],
   "source": [
    "# Extract relevant fields from the data frame\n",
    "# Export the City_Data into a csv\n",
    "clean_city_data.to_csv(r'../output_data/cities.csv', index=False) "
   ]
  },
  {
   "cell_type": "markdown",
   "metadata": {},
   "source": [
    "## Plotting the Data\n",
    "* Use proper labeling of the plots using plot titles (including date of analysis) and axes labels.\n",
    "* Save the plotted figures as .pngs."
   ]
  },
  {
   "cell_type": "markdown",
   "metadata": {},
   "source": [
    "## Latitude vs. Temperature Plot"
   ]
  },
  {
   "cell_type": "code",
   "execution_count": 13,
   "metadata": {},
   "outputs": [],
   "source": [
    "#Format the unix time\n",
    "def startdt(data_frame):\n",
    "    return time.strftime(\"%D\", time.localtime(int(data_frame[\"Date\"][0])))\n",
    " "
   ]
  },
  {
   "cell_type": "code",
   "execution_count": 14,
   "metadata": {
    "scrolled": true
   },
   "outputs": [
    {
     "data": {
      "image/png": "[encoded data removed]",
      "text/plain": [
       "<Figure size 432x288 with 1 Axes>"
      ]
     },
     "metadata": {
      "needs_background": "light"
     },
     "output_type": "display_data"
    }
   ],
   "source": [
    "\n",
    "maxTemp=clean_city_data[\"Max Temp\"].tolist()\n",
    "latitude=clean_city_data[\"Lat\"].tolist()\n",
    "plt.scatter(latitude, maxTemp, marker=\"o\", facecolors=\"teal\", edgecolors=\"black\",\n",
    "            alpha=0.5)\n",
    "\n",
    "plt.xlabel('Latitude')\n",
    "plt.ylabel(\"Max Temperature (F)\")\n",
    "plt.title(f'City Latitude vs. Max Temperature ({startdt(clean_city_data)})')\n",
    "plt.grid(True)\n",
    "\n",
    "plt.savefig(r'../output_data/plot1.png')\n",
    "plt.show()"
   ]
  },
  {
   "cell_type": "code",
   "execution_count": 15,
   "metadata": {},
   "outputs": [],
   "source": [
    "##Latitude vs. Humidity Plot"
   ]
  },
  {
   "cell_type": "code",
   "execution_count": 16,
   "metadata": {},
   "outputs": [
    {
     "data": {
      "image/png": "[encoded data removed]",
      "text/plain": [
       "<Figure size 432x288 with 1 Axes>"
      ]
     },
     "metadata": {
      "needs_background": "light"
     },
     "output_type": "display_data"
    }
   ],
   "source": [
    "humid=clean_city_data[\"Humidity\"].tolist()\n",
    "plt.scatter(latitude, humid, marker=\"o\", facecolors=\"teal\", edgecolors=\"black\",\n",
    "            alpha=0.5)\n",
    "\n",
    "plt.xlabel('Latitude')\n",
    "plt.ylabel(\"Humidity (%)\")\n",
    "plt.title(f'City Latitude vs. Humidity {startdt(clean_city_data)}')\n",
    "plt.grid(True)\n",
    "\n",
    "plt.savefig(r'../output_data/plot2.png')\n",
    "plt.show()"
   ]
  },
  {
   "cell_type": "markdown",
   "metadata": {},
   "source": [
    "## Latitude vs. Cloudiness Plot"
   ]
  },
  {
   "cell_type": "code",
   "execution_count": 17,
   "metadata": {},
   "outputs": [
    {
     "data": {
      "image/png": "[encoded data removed]",
      "text/plain": [
       "<Figure size 432x288 with 1 Axes>"
      ]
     },
     "metadata": {
      "needs_background": "light"
     },
     "output_type": "display_data"
    }
   ],
   "source": [
    "cloud=clean_city_data[\"Cloudiness\"].tolist()\n",
    "plt.scatter(latitude, cloud, marker=\"o\", facecolors=\"teal\", edgecolors=\"black\",\n",
    "            alpha=0.5)\n",
    "\n",
    "plt.xlabel('Latitude')\n",
    "plt.ylabel(\"Cloudiness (%)\")\n",
    "plt.title(f'City Latitude vs. Cloudiness {startdt(clean_city_data)}')\n",
    "plt.grid(True)\n",
    "\n",
    "plt.savefig(r'../output_data/plot3.png')\n",
    "plt.show()"
   ]
  },
  {
   "cell_type": "markdown",
   "metadata": {},
   "source": [
    "## Latitude vs. Wind Speed Plot"
   ]
  },
  {
   "cell_type": "code",
   "execution_count": 18,
   "metadata": {},
   "outputs": [
    {
     "data": {
      "image/png": "[encoded data removed]",
      "text/plain": [
       "<Figure size 432x288 with 1 Axes>"
      ]
     },
     "metadata": {
      "needs_background": "light"
     },
     "output_type": "display_data"
    }
   ],
   "source": [
    "windsp=clean_city_data[\"Wind Speed\"].tolist()\n",
    "\n",
    "plt.scatter(latitude, windsp, marker=\"o\", facecolors=\"teal\", edgecolors=\"black\",\n",
    "            alpha=0.5)\n",
    "\n",
    "plt.xlabel('Latitude')\n",
    "plt.ylabel(\"Wind Speed (mph)\")\n",
    "plt.title(f'City Latitude vs. Wind Speed {startdt(clean_city_data)}')\n",
    "plt.grid(True)\n",
    "\n",
    "plt.savefig(r'../output_data/plot4.png')\n",
    "plt.show()"
   ]
  },
  {
   "cell_type": "markdown",
   "metadata": {},
   "source": [
    "## Linear Regression"
   ]
  },
  {
   "cell_type": "code",
   "execution_count": 19,
   "metadata": {},
   "outputs": [],
   "source": [
    "# Create Northern and Southern Hemisphere DataFrames\n",
    "northern_hem_df = clean_city_data.loc[(clean_city_data[\"Lat\"]>=0)]\n",
    "southern_hem_df = clean_city_data.loc[(clean_city_data[\"Lat\"]<0)]"
   ]
  },
  {
   "cell_type": "markdown",
   "metadata": {},
   "source": [
    "####  Northern Hemisphere - Max Temp vs. Latitude Linear Regression"
   ]
  },
  {
   "cell_type": "code",
   "execution_count": 20,
   "metadata": {},
   "outputs": [
    {
     "name": "stdout",
     "output_type": "stream",
     "text": [
      "The r-squared is: 0.4904282098488752\n",
      "y = -0.51x + 88.5\n"
     ]
    },
    {
     "data": {
      "image/png": "[encoded data removed]",
      "text/plain": [
       "<Figure size 432x288 with 1 Axes>"
      ]
     },
     "metadata": {
      "needs_background": "light"
     },
     "output_type": "display_data"
    }
   ],
   "source": [
    "x_values = northern_hem_df['Lat']\n",
    "y_values = northern_hem_df['Max Temp']\n",
    "(slope, intercept, rvalue, pvalue, stderr) = linregress(x_values, y_values)\n",
    "regress_values = x_values * slope + intercept\n",
    "line_eq = \"y = \" + str(round(slope,2)) + \"x + \" + str(round(intercept,2))\n",
    "plt.scatter(x_values,y_values)\n",
    "plt.plot(x_values,regress_values,\"r-\")\n",
    "plt.annotate(line_eq,(20,38),fontsize=15,color=\"red\")\n",
    "plt.xlabel('Latitude')\n",
    "plt.ylabel('Max Temp')\n",
    "\n",
    "print(f\"The r-squared is: {rvalue**2}\")\n",
    "print(line_eq)\n",
    "\n",
    "\n",
    "plt.show()\n"
   ]
  },
  {
   "cell_type": "markdown",
   "metadata": {},
   "source": [
    "####  Southern Hemisphere - Max Temp vs. Latitude Linear Regression"
   ]
  },
  {
   "cell_type": "code",
   "execution_count": 21,
   "metadata": {},
   "outputs": [
    {
     "name": "stdout",
     "output_type": "stream",
     "text": [
      "The r-squared is: 0.5397191665167688\n",
      "y = 0.69x + 78.5\n"
     ]
    },
    {
     "data": {
      "image/png": "[encoded data removed]",
      "text/plain": [
       "<Figure size 432x288 with 1 Axes>"
      ]
     },
     "metadata": {
      "needs_background": "light"
     },
     "output_type": "display_data"
    }
   ],
   "source": [
    "x_values = southern_hem_df['Lat']\n",
    "y_values = southern_hem_df['Max Temp']\n",
    "(slope, intercept, rvalue, pvalue, stderr) = linregress(x_values, y_values)\n",
    "regress_values = x_values * slope + intercept\n",
    "line_eq = \"y = \" + str(round(slope,2)) + \"x + \" + str(round(intercept,2))\n",
    "plt.scatter(x_values,y_values)\n",
    "plt.plot(x_values,regress_values,\"r-\")\n",
    "plt.annotate(line_eq,(-30,50),fontsize=15,color=\"red\")\n",
    "plt.xlabel('Latitude')\n",
    "plt.ylabel('Max Temp')\n",
    "\n",
    "print(f\"The r-squared is: {rvalue**2}\")\n",
    "print(line_eq)\n",
    "\n",
    "\n",
    "plt.show()"
   ]
  },
  {
   "cell_type": "markdown",
   "metadata": {},
   "source": [
    "####  Northern Hemisphere - Humidity (%) vs. Latitude Linear Regression"
   ]
  },
  {
   "cell_type": "code",
   "execution_count": 22,
   "metadata": {},
   "outputs": [
    {
     "name": "stdout",
     "output_type": "stream",
     "text": [
      "The r-squared is: 0.014021368683931057\n",
      "y = -0.13x + 73.09\n"
     ]
    },
    {
     "data": {
      "image/png": "[encoded data removed]",
      "text/plain": [
       "<Figure size 432x288 with 1 Axes>"
      ]
     },
     "metadata": {
      "needs_background": "light"
     },
     "output_type": "display_data"
    }
   ],
   "source": [
    "x_values = northern_hem_df['Lat']\n",
    "y_values = northern_hem_df['Humidity']\n",
    "(slope, intercept, rvalue, pvalue, stderr) = linregress(x_values, y_values)\n",
    "regress_values = x_values * slope + intercept\n",
    "line_eq = \"y = \" + str(round(slope,2)) + \"x + \" + str(round(intercept,2))\n",
    "plt.scatter(x_values,y_values)\n",
    "plt.plot(x_values,regress_values,\"r-\")\n",
    "plt.annotate(line_eq,(20,38),fontsize=15, color=\"red\")\n",
    "plt.xlabel('Latitude')\n",
    "plt.ylabel('Humidity')\n",
    "\n",
    "print(f\"The r-squared is: {rvalue**2}\")\n",
    "print(line_eq)\n",
    "\n",
    "\n",
    "plt.show()"
   ]
  },
  {
   "cell_type": "markdown",
   "metadata": {},
   "source": [
    "####  Southern Hemisphere - Humidity (%) vs. Latitude Linear Regression"
   ]
  },
  {
   "cell_type": "code",
   "execution_count": 23,
   "metadata": {},
   "outputs": [
    {
     "name": "stdout",
     "output_type": "stream",
     "text": [
      "The r-squared is: 0.006336073404277832\n",
      "y = 0.09x + 77.88\n"
     ]
    },
    {
     "data": {
      "image/png": "[encoded data removed]",
      "text/plain": [
       "<Figure size 432x288 with 1 Axes>"
      ]
     },
     "metadata": {
      "needs_background": "light"
     },
     "output_type": "display_data"
    }
   ],
   "source": [
    "x_values = southern_hem_df['Lat']\n",
    "y_values = southern_hem_df['Humidity']\n",
    "(slope, intercept, rvalue, pvalue, stderr) = linregress(x_values, y_values)\n",
    "regress_values = x_values * slope + intercept\n",
    "line_eq = \"y = \" + str(round(slope,2)) + \"x + \" + str(round(intercept,2))\n",
    "plt.scatter(x_values,y_values)\n",
    "plt.plot(x_values,regress_values,\"r-\")\n",
    "plt.annotate(line_eq,(-30,38),fontsize=15, color=\"red\")\n",
    "plt.xlabel('Latitude')\n",
    "plt.ylabel('Humidity')\n",
    "\n",
    "print(f\"The r-squared is: {rvalue**2}\")\n",
    "print(line_eq)\n",
    "\n",
    "\n",
    "plt.show()"
   ]
  },
  {
   "cell_type": "markdown",
   "metadata": {},
   "source": [
    "####  Northern Hemisphere - Cloudiness (%) vs. Latitude Linear Regression"
   ]
  },
  {
   "cell_type": "code",
   "execution_count": 24,
   "metadata": {},
   "outputs": [
    {
     "name": "stdout",
     "output_type": "stream",
     "text": [
      "The r-squared is: 0.005066071064090548\n",
      "y = -0.13x + 55.18\n"
     ]
    },
    {
     "data": {
      "image/png": "[encoded data removed]",
      "text/plain": [
       "<Figure size 432x288 with 1 Axes>"
      ]
     },
     "metadata": {
      "needs_background": "light"
     },
     "output_type": "display_data"
    }
   ],
   "source": [
    "x_values = northern_hem_df['Lat']\n",
    "y_values = northern_hem_df['Cloudiness']\n",
    "(slope, intercept, rvalue, pvalue, stderr) = linregress(x_values, y_values)\n",
    "regress_values = x_values * slope + intercept\n",
    "line_eq = \"y = \" + str(round(slope,2)) + \"x + \" + str(round(intercept,2))\n",
    "plt.scatter(x_values,y_values)\n",
    "plt.plot(x_values,regress_values,\"r-\")\n",
    "plt.annotate(line_eq,(20,60),fontsize=15,color=\"red\")\n",
    "plt.xlabel('Latitude')\n",
    "plt.ylabel('Cloudiness')\n",
    "\n",
    "print(f\"The r-squared is: {rvalue**2}\")\n",
    "print(line_eq)\n",
    "\n",
    "\n",
    "plt.show()"
   ]
  },
  {
   "cell_type": "markdown",
   "metadata": {},
   "source": [
    "####  Southern Hemisphere - Cloudiness (%) vs. Latitude Linear Regression"
   ]
  },
  {
   "cell_type": "code",
   "execution_count": 25,
   "metadata": {},
   "outputs": [
    {
     "name": "stdout",
     "output_type": "stream",
     "text": [
      "The r-squared is: 0.012292966375916942\n",
      "y = -0.29x + 36.65\n"
     ]
    },
    {
     "data": {
      "image/png": "[encoded data removed]",
      "text/plain": [
       "<Figure size 432x288 with 1 Axes>"
      ]
     },
     "metadata": {
      "needs_background": "light"
     },
     "output_type": "display_data"
    }
   ],
   "source": [
    "x_values = southern_hem_df['Lat']\n",
    "y_values = southern_hem_df['Cloudiness']\n",
    "(slope, intercept, rvalue, pvalue, stderr) = linregress(x_values, y_values)\n",
    "regress_values = x_values * slope + intercept\n",
    "line_eq = \"y = \" + str(round(slope,2)) + \"x + \" + str(round(intercept,2))\n",
    "plt.scatter(x_values,y_values)\n",
    "plt.plot(x_values,regress_values,\"r-\")\n",
    "plt.annotate(line_eq,(-30,60),fontsize=15, color=\"red\")\n",
    "plt.xlabel('Latitude')\n",
    "plt.ylabel('Cloudiness')\n",
    "\n",
    "print(f\"The r-squared is: {rvalue**2}\")\n",
    "print(line_eq)\n",
    "\n",
    "\n",
    "plt.show()"
   ]
  },
  {
   "cell_type": "markdown",
   "metadata": {},
   "source": [
    "####  Northern Hemisphere - Wind Speed (mph) vs. Latitude Linear Regression"
   ]
  },
  {
   "cell_type": "code",
   "execution_count": 26,
   "metadata": {},
   "outputs": [
    {
     "name": "stdout",
     "output_type": "stream",
     "text": [
      "The r-squared is: 0.004747289804186782\n",
      "y = -0.02x + 8.72\n"
     ]
    },
    {
     "data": {
      "image/png": "[encoded data removed]",
      "text/plain": [
       "<Figure size 432x288 with 1 Axes>"
      ]
     },
     "metadata": {
      "needs_background": "light"
     },
     "output_type": "display_data"
    }
   ],
   "source": [
    "x_values = northern_hem_df['Lat']\n",
    "y_values = northern_hem_df['Wind Speed']\n",
    "(slope, intercept, rvalue, pvalue, stderr) = linregress(x_values, y_values)\n",
    "regress_values = x_values * slope + intercept\n",
    "line_eq = \"y = \" + str(round(slope,2)) + \"x + \" + str(round(intercept,2))\n",
    "plt.scatter(x_values,y_values)\n",
    "plt.plot(x_values,regress_values,\"r-\")\n",
    "plt.annotate(line_eq,(20,25),fontsize=15,color=\"red\")\n",
    "plt.xlabel('Latitude')\n",
    "plt.ylabel('Wind Speed')\n",
    "\n",
    "print(f\"The r-squared is: {rvalue**2}\")\n",
    "print(line_eq)\n",
    "\n",
    "\n",
    "plt.show()"
   ]
  },
  {
   "cell_type": "markdown",
   "metadata": {},
   "source": [
    "####  Southern Hemisphere - Wind Speed (mph) vs. Latitude Linear Regression"
   ]
  },
  {
   "cell_type": "code",
   "execution_count": 27,
   "metadata": {},
   "outputs": [
    {
     "name": "stdout",
     "output_type": "stream",
     "text": [
      "The r-squared is: 0.006496573678164932\n",
      "y = -0.03x + 7.49\n"
     ]
    },
    {
     "data": {
      "image/png": "[encoded data removed]",
      "text/plain": [
       "<Figure size 432x288 with 1 Axes>"
      ]
     },
     "metadata": {
      "needs_background": "light"
     },
     "output_type": "display_data"
    }
   ],
   "source": [
    "x_values = southern_hem_df['Lat']\n",
    "y_values = southern_hem_df['Wind Speed']\n",
    "(slope, intercept, rvalue, pvalue, stderr) = linregress(x_values, y_values)\n",
    "regress_values = x_values * slope + intercept\n",
    "line_eq = \"y = \" + str(round(slope,2)) + \"x + \" + str(round(intercept,2))\n",
    "plt.scatter(x_values,y_values)\n",
    "plt.plot(x_values,regress_values,\"r-\")\n",
    "plt.annotate(line_eq,(-40,20),fontsize=15, color=\"red\")\n",
    "plt.xlabel('Latitude')\n",
    "plt.ylabel('Wind Speed')\n",
    "\n",
    "print(f\"The r-squared is: {rvalue**2}\")\n",
    "print(line_eq)\n",
    "\n",
    "\n",
    "plt.show()"
   ]
  },
  {
   "cell_type": "code",
   "execution_count": null,
   "metadata": {},
   "outputs": [],
   "source": []
  }
 ],
 "metadata": {
  "anaconda-cloud": {},
  "kernel_info": {
   "name": "python3"
  },
  "kernelspec": {
   "display_name": "Python [conda env:.conda-PythonData] *",
   "language": "python",
   "name": "conda-env-.conda-PythonData-py"
  },
  "language_info": {
   "codemirror_mode": {
    "name": "ipython",
    "version": 3
   },
   "file_extension": ".py",
   "mimetype": "text/x-python",
   "name": "python",
   "nbconvert_exporter": "python",
   "pygments_lexer": "ipython3",
   "version": "3.8.2"
  },
  "latex_envs": {
   "LaTeX_envs_menu_present": true,
   "autoclose": false,
   "autocomplete": true,
   "bibliofile": "biblio.bib",
   "cite_by": "apalike",
   "current_citInitial": 1,
   "eqLabelWithNumbers": true,
   "eqNumInitial": 1,
   "hotkeys": {
    "equation": "Ctrl-E",
    "itemize": "Ctrl-I"
   },
   "labels_anchors": false,
   "latex_user_defs": false,
   "report_style_numbering": false,
   "user_envs_cfg": false
  },
  "nteract": {
   "version": "0.12.3"
  }
 },
 "nbformat": 4,
 "nbformat_minor": 2
}
